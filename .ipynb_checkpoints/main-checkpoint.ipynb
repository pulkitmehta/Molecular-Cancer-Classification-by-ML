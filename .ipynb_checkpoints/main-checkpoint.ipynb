{
 "cells": [
  {
   "cell_type": "code",
   "execution_count": 164,
   "metadata": {},
   "outputs": [],
   "source": [
    "import numpy as np\n",
    "import pandas as pd\n",
    "import matplotlib.pyplot as plt"
   ]
  },
  {
   "cell_type": "code",
   "execution_count": 212,
   "metadata": {},
   "outputs": [],
   "source": [
    "data_test= pd.read_csv(\"./datasets/data_set_ALL_AML_independent.csv\")\n",
    "data_train= pd.read_csv(\"./datasets/data_set_ALL_AML_train.csv\")\n",
    "target= pd.read_csv(\"./datasets/actual.csv\")"
   ]
  },
  {
   "cell_type": "code",
   "execution_count": 213,
   "metadata": {},
   "outputs": [
    {
     "data": {
      "text/html": [
       "<div>\n",
       "<style scoped>\n",
       "    .dataframe tbody tr th:only-of-type {\n",
       "        vertical-align: middle;\n",
       "    }\n",
       "\n",
       "    .dataframe tbody tr th {\n",
       "        vertical-align: top;\n",
       "    }\n",
       "\n",
       "    .dataframe thead th {\n",
       "        text-align: right;\n",
       "    }\n",
       "</style>\n",
       "<table border=\"1\" class=\"dataframe\">\n",
       "  <thead>\n",
       "    <tr style=\"text-align: right;\">\n",
       "      <th></th>\n",
       "      <th>Gene Description</th>\n",
       "      <th>Gene Accession Number</th>\n",
       "      <th>1</th>\n",
       "      <th>call</th>\n",
       "      <th>2</th>\n",
       "      <th>call.1</th>\n",
       "      <th>3</th>\n",
       "      <th>call.2</th>\n",
       "      <th>4</th>\n",
       "      <th>call.3</th>\n",
       "      <th>...</th>\n",
       "      <th>29</th>\n",
       "      <th>call.33</th>\n",
       "      <th>30</th>\n",
       "      <th>call.34</th>\n",
       "      <th>31</th>\n",
       "      <th>call.35</th>\n",
       "      <th>32</th>\n",
       "      <th>call.36</th>\n",
       "      <th>33</th>\n",
       "      <th>call.37</th>\n",
       "    </tr>\n",
       "  </thead>\n",
       "  <tbody>\n",
       "    <tr>\n",
       "      <th>0</th>\n",
       "      <td>AFFX-BioB-5_at (endogenous control)</td>\n",
       "      <td>AFFX-BioB-5_at</td>\n",
       "      <td>-214</td>\n",
       "      <td>A</td>\n",
       "      <td>-139</td>\n",
       "      <td>A</td>\n",
       "      <td>-76</td>\n",
       "      <td>A</td>\n",
       "      <td>-135</td>\n",
       "      <td>A</td>\n",
       "      <td>...</td>\n",
       "      <td>15</td>\n",
       "      <td>A</td>\n",
       "      <td>-318</td>\n",
       "      <td>A</td>\n",
       "      <td>-32</td>\n",
       "      <td>A</td>\n",
       "      <td>-124</td>\n",
       "      <td>A</td>\n",
       "      <td>-135</td>\n",
       "      <td>A</td>\n",
       "    </tr>\n",
       "    <tr>\n",
       "      <th>1</th>\n",
       "      <td>AFFX-BioB-M_at (endogenous control)</td>\n",
       "      <td>AFFX-BioB-M_at</td>\n",
       "      <td>-153</td>\n",
       "      <td>A</td>\n",
       "      <td>-73</td>\n",
       "      <td>A</td>\n",
       "      <td>-49</td>\n",
       "      <td>A</td>\n",
       "      <td>-114</td>\n",
       "      <td>A</td>\n",
       "      <td>...</td>\n",
       "      <td>-114</td>\n",
       "      <td>A</td>\n",
       "      <td>-192</td>\n",
       "      <td>A</td>\n",
       "      <td>-49</td>\n",
       "      <td>A</td>\n",
       "      <td>-79</td>\n",
       "      <td>A</td>\n",
       "      <td>-186</td>\n",
       "      <td>A</td>\n",
       "    </tr>\n",
       "    <tr>\n",
       "      <th>2</th>\n",
       "      <td>AFFX-BioB-3_at (endogenous control)</td>\n",
       "      <td>AFFX-BioB-3_at</td>\n",
       "      <td>-58</td>\n",
       "      <td>A</td>\n",
       "      <td>-1</td>\n",
       "      <td>A</td>\n",
       "      <td>-307</td>\n",
       "      <td>A</td>\n",
       "      <td>265</td>\n",
       "      <td>A</td>\n",
       "      <td>...</td>\n",
       "      <td>2</td>\n",
       "      <td>A</td>\n",
       "      <td>-95</td>\n",
       "      <td>A</td>\n",
       "      <td>49</td>\n",
       "      <td>A</td>\n",
       "      <td>-37</td>\n",
       "      <td>A</td>\n",
       "      <td>-70</td>\n",
       "      <td>A</td>\n",
       "    </tr>\n",
       "    <tr>\n",
       "      <th>3</th>\n",
       "      <td>AFFX-BioC-5_at (endogenous control)</td>\n",
       "      <td>AFFX-BioC-5_at</td>\n",
       "      <td>88</td>\n",
       "      <td>A</td>\n",
       "      <td>283</td>\n",
       "      <td>A</td>\n",
       "      <td>309</td>\n",
       "      <td>A</td>\n",
       "      <td>12</td>\n",
       "      <td>A</td>\n",
       "      <td>...</td>\n",
       "      <td>193</td>\n",
       "      <td>A</td>\n",
       "      <td>312</td>\n",
       "      <td>A</td>\n",
       "      <td>230</td>\n",
       "      <td>P</td>\n",
       "      <td>330</td>\n",
       "      <td>A</td>\n",
       "      <td>337</td>\n",
       "      <td>A</td>\n",
       "    </tr>\n",
       "    <tr>\n",
       "      <th>4</th>\n",
       "      <td>AFFX-BioC-3_at (endogenous control)</td>\n",
       "      <td>AFFX-BioC-3_at</td>\n",
       "      <td>-295</td>\n",
       "      <td>A</td>\n",
       "      <td>-264</td>\n",
       "      <td>A</td>\n",
       "      <td>-376</td>\n",
       "      <td>A</td>\n",
       "      <td>-419</td>\n",
       "      <td>A</td>\n",
       "      <td>...</td>\n",
       "      <td>-51</td>\n",
       "      <td>A</td>\n",
       "      <td>-139</td>\n",
       "      <td>A</td>\n",
       "      <td>-367</td>\n",
       "      <td>A</td>\n",
       "      <td>-188</td>\n",
       "      <td>A</td>\n",
       "      <td>-407</td>\n",
       "      <td>A</td>\n",
       "    </tr>\n",
       "  </tbody>\n",
       "</table>\n",
       "<p>5 rows × 78 columns</p>\n",
       "</div>"
      ],
      "text/plain": [
       "                      Gene Description Gene Accession Number    1 call    2  \\\n",
       "0  AFFX-BioB-5_at (endogenous control)        AFFX-BioB-5_at -214    A -139   \n",
       "1  AFFX-BioB-M_at (endogenous control)        AFFX-BioB-M_at -153    A  -73   \n",
       "2  AFFX-BioB-3_at (endogenous control)        AFFX-BioB-3_at  -58    A   -1   \n",
       "3  AFFX-BioC-5_at (endogenous control)        AFFX-BioC-5_at   88    A  283   \n",
       "4  AFFX-BioC-3_at (endogenous control)        AFFX-BioC-3_at -295    A -264   \n",
       "\n",
       "  call.1    3 call.2    4 call.3   ...     29 call.33   30 call.34   31  \\\n",
       "0      A  -76      A -135      A   ...     15       A -318       A  -32   \n",
       "1      A  -49      A -114      A   ...   -114       A -192       A  -49   \n",
       "2      A -307      A  265      A   ...      2       A  -95       A   49   \n",
       "3      A  309      A   12      A   ...    193       A  312       A  230   \n",
       "4      A -376      A -419      A   ...    -51       A -139       A -367   \n",
       "\n",
       "  call.35   32 call.36   33 call.37  \n",
       "0       A -124       A -135       A  \n",
       "1       A  -79       A -186       A  \n",
       "2       A  -37       A  -70       A  \n",
       "3       P  330       A  337       A  \n",
       "4       A -188       A -407       A  \n",
       "\n",
       "[5 rows x 78 columns]"
      ]
     },
     "execution_count": 213,
     "metadata": {},
     "output_type": "execute_result"
    }
   ],
   "source": [
    "data_train.head()"
   ]
  },
  {
   "cell_type": "code",
   "execution_count": 214,
   "metadata": {},
   "outputs": [
    {
     "data": {
      "text/html": [
       "<div>\n",
       "<style scoped>\n",
       "    .dataframe tbody tr th:only-of-type {\n",
       "        vertical-align: middle;\n",
       "    }\n",
       "\n",
       "    .dataframe tbody tr th {\n",
       "        vertical-align: top;\n",
       "    }\n",
       "\n",
       "    .dataframe thead th {\n",
       "        text-align: right;\n",
       "    }\n",
       "</style>\n",
       "<table border=\"1\" class=\"dataframe\">\n",
       "  <thead>\n",
       "    <tr style=\"text-align: right;\">\n",
       "      <th></th>\n",
       "      <th>Gene Description</th>\n",
       "      <th>Gene Accession Number</th>\n",
       "      <th>39</th>\n",
       "      <th>call</th>\n",
       "      <th>40</th>\n",
       "      <th>call.1</th>\n",
       "      <th>42</th>\n",
       "      <th>call.2</th>\n",
       "      <th>47</th>\n",
       "      <th>call.3</th>\n",
       "      <th>...</th>\n",
       "      <th>65</th>\n",
       "      <th>call.29</th>\n",
       "      <th>66</th>\n",
       "      <th>call.30</th>\n",
       "      <th>63</th>\n",
       "      <th>call.31</th>\n",
       "      <th>64</th>\n",
       "      <th>call.32</th>\n",
       "      <th>62</th>\n",
       "      <th>call.33</th>\n",
       "    </tr>\n",
       "  </thead>\n",
       "  <tbody>\n",
       "    <tr>\n",
       "      <th>0</th>\n",
       "      <td>AFFX-BioB-5_at (endogenous control)</td>\n",
       "      <td>AFFX-BioB-5_at</td>\n",
       "      <td>-342</td>\n",
       "      <td>A</td>\n",
       "      <td>-87</td>\n",
       "      <td>A</td>\n",
       "      <td>22</td>\n",
       "      <td>A</td>\n",
       "      <td>-243</td>\n",
       "      <td>A</td>\n",
       "      <td>...</td>\n",
       "      <td>-62</td>\n",
       "      <td>A</td>\n",
       "      <td>-58</td>\n",
       "      <td>A</td>\n",
       "      <td>-161</td>\n",
       "      <td>A</td>\n",
       "      <td>-48</td>\n",
       "      <td>A</td>\n",
       "      <td>-176</td>\n",
       "      <td>A</td>\n",
       "    </tr>\n",
       "    <tr>\n",
       "      <th>1</th>\n",
       "      <td>AFFX-BioB-M_at (endogenous control)</td>\n",
       "      <td>AFFX-BioB-M_at</td>\n",
       "      <td>-200</td>\n",
       "      <td>A</td>\n",
       "      <td>-248</td>\n",
       "      <td>A</td>\n",
       "      <td>-153</td>\n",
       "      <td>A</td>\n",
       "      <td>-218</td>\n",
       "      <td>A</td>\n",
       "      <td>...</td>\n",
       "      <td>-198</td>\n",
       "      <td>A</td>\n",
       "      <td>-217</td>\n",
       "      <td>A</td>\n",
       "      <td>-215</td>\n",
       "      <td>A</td>\n",
       "      <td>-531</td>\n",
       "      <td>A</td>\n",
       "      <td>-284</td>\n",
       "      <td>A</td>\n",
       "    </tr>\n",
       "    <tr>\n",
       "      <th>2</th>\n",
       "      <td>AFFX-BioB-3_at (endogenous control)</td>\n",
       "      <td>AFFX-BioB-3_at</td>\n",
       "      <td>41</td>\n",
       "      <td>A</td>\n",
       "      <td>262</td>\n",
       "      <td>A</td>\n",
       "      <td>17</td>\n",
       "      <td>A</td>\n",
       "      <td>-163</td>\n",
       "      <td>A</td>\n",
       "      <td>...</td>\n",
       "      <td>-5</td>\n",
       "      <td>A</td>\n",
       "      <td>63</td>\n",
       "      <td>A</td>\n",
       "      <td>-46</td>\n",
       "      <td>A</td>\n",
       "      <td>-124</td>\n",
       "      <td>A</td>\n",
       "      <td>-81</td>\n",
       "      <td>A</td>\n",
       "    </tr>\n",
       "    <tr>\n",
       "      <th>3</th>\n",
       "      <td>AFFX-BioC-5_at (endogenous control)</td>\n",
       "      <td>AFFX-BioC-5_at</td>\n",
       "      <td>328</td>\n",
       "      <td>A</td>\n",
       "      <td>295</td>\n",
       "      <td>A</td>\n",
       "      <td>276</td>\n",
       "      <td>A</td>\n",
       "      <td>182</td>\n",
       "      <td>A</td>\n",
       "      <td>...</td>\n",
       "      <td>141</td>\n",
       "      <td>A</td>\n",
       "      <td>95</td>\n",
       "      <td>A</td>\n",
       "      <td>146</td>\n",
       "      <td>A</td>\n",
       "      <td>431</td>\n",
       "      <td>A</td>\n",
       "      <td>9</td>\n",
       "      <td>A</td>\n",
       "    </tr>\n",
       "    <tr>\n",
       "      <th>4</th>\n",
       "      <td>AFFX-BioC-3_at (endogenous control)</td>\n",
       "      <td>AFFX-BioC-3_at</td>\n",
       "      <td>-224</td>\n",
       "      <td>A</td>\n",
       "      <td>-226</td>\n",
       "      <td>A</td>\n",
       "      <td>-211</td>\n",
       "      <td>A</td>\n",
       "      <td>-289</td>\n",
       "      <td>A</td>\n",
       "      <td>...</td>\n",
       "      <td>-256</td>\n",
       "      <td>A</td>\n",
       "      <td>-191</td>\n",
       "      <td>A</td>\n",
       "      <td>-172</td>\n",
       "      <td>A</td>\n",
       "      <td>-496</td>\n",
       "      <td>A</td>\n",
       "      <td>-294</td>\n",
       "      <td>A</td>\n",
       "    </tr>\n",
       "  </tbody>\n",
       "</table>\n",
       "<p>5 rows × 70 columns</p>\n",
       "</div>"
      ],
      "text/plain": [
       "                      Gene Description Gene Accession Number   39 call   40  \\\n",
       "0  AFFX-BioB-5_at (endogenous control)        AFFX-BioB-5_at -342    A  -87   \n",
       "1  AFFX-BioB-M_at (endogenous control)        AFFX-BioB-M_at -200    A -248   \n",
       "2  AFFX-BioB-3_at (endogenous control)        AFFX-BioB-3_at   41    A  262   \n",
       "3  AFFX-BioC-5_at (endogenous control)        AFFX-BioC-5_at  328    A  295   \n",
       "4  AFFX-BioC-3_at (endogenous control)        AFFX-BioC-3_at -224    A -226   \n",
       "\n",
       "  call.1   42 call.2   47 call.3   ...     65 call.29   66 call.30   63  \\\n",
       "0      A   22      A -243      A   ...    -62       A  -58       A -161   \n",
       "1      A -153      A -218      A   ...   -198       A -217       A -215   \n",
       "2      A   17      A -163      A   ...     -5       A   63       A  -46   \n",
       "3      A  276      A  182      A   ...    141       A   95       A  146   \n",
       "4      A -211      A -289      A   ...   -256       A -191       A -172   \n",
       "\n",
       "  call.31   64 call.32   62 call.33  \n",
       "0       A  -48       A -176       A  \n",
       "1       A -531       A -284       A  \n",
       "2       A -124       A  -81       A  \n",
       "3       A  431       A    9       A  \n",
       "4       A -496       A -294       A  \n",
       "\n",
       "[5 rows x 70 columns]"
      ]
     },
     "execution_count": 214,
     "metadata": {},
     "output_type": "execute_result"
    }
   ],
   "source": [
    "data_test.head()"
   ]
  },
  {
   "cell_type": "code",
   "execution_count": 215,
   "metadata": {},
   "outputs": [],
   "source": [
    "GAN=data_train['Gene Accession Number'].values"
   ]
  },
  {
   "cell_type": "code",
   "execution_count": 216,
   "metadata": {},
   "outputs": [
    {
     "data": {
      "text/plain": [
       "array([ True])"
      ]
     },
     "execution_count": 216,
     "metadata": {},
     "output_type": "execute_result"
    }
   ],
   "source": [
    "np.unique(data_train['Gene Accession Number'].values == data_test['Gene Accession Number'].values)"
   ]
  },
  {
   "cell_type": "code",
   "execution_count": 217,
   "metadata": {},
   "outputs": [],
   "source": [
    "traindrop=[]\n",
    "for col in data_train.columns[:]:\n",
    "    try:\n",
    "        int(col)\n",
    "    except:\n",
    "        traindrop.append(col)\n",
    "testdrop=[]\n",
    "for col in data_test.columns[:]:\n",
    "    try:\n",
    "        int(col)\n",
    "    except:\n",
    "        testdrop.append(col)"
   ]
  },
  {
   "cell_type": "code",
   "execution_count": 218,
   "metadata": {},
   "outputs": [],
   "source": [
    "data_train=data_train.drop(columns=traindrop)\n",
    "data_test=data_test.drop(columns=testdrop)"
   ]
  },
  {
   "cell_type": "code",
   "execution_count": 219,
   "metadata": {},
   "outputs": [
    {
     "data": {
      "text/plain": [
       "(Index(['1', '2', '3', '4', '5', '6', '7', '8', '9', '10', '11', '12', '13',\n",
       "        '14', '15', '16', '17', '18', '19', '20', '21', '22', '23', '24', '25',\n",
       "        '26', '27', '34', '35', '36', '37', '38', '28', '29', '30', '31', '32',\n",
       "        '33'],\n",
       "       dtype='object'),\n",
       " Index(['39', '40', '42', '47', '48', '49', '41', '43', '44', '45', '46', '70',\n",
       "        '71', '72', '68', '69', '67', '55', '56', '59', '52', '53', '51', '50',\n",
       "        '54', '57', '58', '60', '61', '65', '66', '63', '64', '62'],\n",
       "       dtype='object'))"
      ]
     },
     "execution_count": 219,
     "metadata": {},
     "output_type": "execute_result"
    }
   ],
   "source": [
    "data_train.columns, data_test.columns"
   ]
  },
  {
   "cell_type": "code",
   "execution_count": 220,
   "metadata": {},
   "outputs": [
    {
     "data": {
      "text/plain": [
       "((7129, 38), (7129, 34))"
      ]
     },
     "execution_count": 220,
     "metadata": {},
     "output_type": "execute_result"
    }
   ],
   "source": [
    "data_train.shape, data_test.shape"
   ]
  },
  {
   "cell_type": "code",
   "execution_count": 257,
   "metadata": {},
   "outputs": [],
   "source": [
    "train_data= pd.DataFrame(data_train.values.T, columns=GAN, index=data_train.columns)\n",
    "test_data= pd.DataFrame(data_test.values.T, columns=GAN, index=data_test.columns)"
   ]
  },
  {
   "cell_type": "code",
   "execution_count": 258,
   "metadata": {},
   "outputs": [],
   "source": [
    "data_unsorted=pd.concat([train_data, test_data], axis=0)"
   ]
  },
  {
   "cell_type": "code",
   "execution_count": 267,
   "metadata": {},
   "outputs": [],
   "source": [
    "data_unsorted.index=data_unsorted.index.astype(int)"
   ]
  },
  {
   "cell_type": "code",
   "execution_count": 269,
   "metadata": {},
   "outputs": [],
   "source": [
    "data=data_unsorted.sort_index()"
   ]
  },
  {
   "cell_type": "code",
   "execution_count": 273,
   "metadata": {},
   "outputs": [],
   "source": [
    "target.index=range(1,73)"
   ]
  },
  {
   "cell_type": "code",
   "execution_count": 275,
   "metadata": {},
   "outputs": [],
   "source": [
    "target=target.drop(columns=['patient'])"
   ]
  },
  {
   "cell_type": "code",
   "execution_count": 290,
   "metadata": {},
   "outputs": [],
   "source": [
    "targets_num=[]\n",
    "for val in (target.cancer.values):\n",
    "    if val=='ALL':\n",
    "        targets_num.append(1)\n",
    "    else:\n",
    "        targets_num.append(0)"
   ]
  },
  {
   "cell_type": "code",
   "execution_count": 295,
   "metadata": {},
   "outputs": [],
   "source": [
    "target=np.array(targets_num)"
   ]
  },
  {
   "cell_type": "code",
   "execution_count": 296,
   "metadata": {},
   "outputs": [
    {
     "data": {
      "text/plain": [
       "array([1, 1, 1, 1, 1, 1, 1, 1, 1, 1, 1, 1, 1, 1, 1, 1, 1, 1, 1, 1, 1, 1,\n",
       "       1, 1, 1, 1, 1, 0, 0, 0, 0, 0, 0, 0, 0, 0, 0, 0, 1, 1, 1, 1, 1, 1,\n",
       "       1, 1, 1, 1, 1, 0, 0, 0, 0, 0, 1, 1, 0, 0, 1, 0, 0, 0, 0, 0, 0, 0,\n",
       "       1, 1, 1, 1, 1, 1])"
      ]
     },
     "execution_count": 296,
     "metadata": {},
     "output_type": "execute_result"
    }
   ],
   "source": []
  },
  {
   "cell_type": "code",
   "execution_count": null,
   "metadata": {},
   "outputs": [],
   "source": []
  }
 ],
 "metadata": {
  "kernelspec": {
   "display_name": "Python 3",
   "language": "python",
   "name": "python3"
  },
  "language_info": {
   "codemirror_mode": {
    "name": "ipython",
    "version": 3
   },
   "file_extension": ".py",
   "mimetype": "text/x-python",
   "name": "python",
   "nbconvert_exporter": "python",
   "pygments_lexer": "ipython3",
   "version": "3.7.1"
  }
 },
 "nbformat": 4,
 "nbformat_minor": 2
}
